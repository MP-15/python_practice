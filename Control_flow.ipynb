{
 "cells": [
  {
   "cell_type": "code",
   "execution_count": 3,
   "metadata": {},
   "outputs": [
    {
     "data": {
      "text/plain": [
       "True"
      ]
     },
     "execution_count": 3,
     "metadata": {},
     "output_type": "execute_result"
    }
   ],
   "source": [
    "## Comparision Operators ##\n",
    "\n",
    "# Greater than \n",
    "1>2\n",
    "#less than\n",
    "1<2\n",
    "# Greater than or equal to\n",
    "1>=1\n",
    "#Less than or equal to\n",
    "1<=4\n",
    "\n",
    "#Equality\n",
    "1 ==1 # o/p --> True\n",
    "1 == '1'# o/p-->False\n",
    "'hi' == 'bye'# o/p--> False\n",
    "\n",
    "# Inequality\n",
    "1!= 3 # o/p--> True\n"
   ]
  },
  {
   "cell_type": "code",
   "execution_count": 6,
   "metadata": {},
   "outputs": [
    {
     "data": {
      "text/plain": [
       "True"
      ]
     },
     "execution_count": 6,
     "metadata": {},
     "output_type": "execute_result"
    }
   ],
   "source": [
    " ## Logical Operator ##\n",
    "\n",
    "#AND\n",
    "(1>2) and (2<3) #o/p--> False\n",
    "\n",
    "#OR\n",
    "(1>2) or (2<3) #o/p--> True\n",
    "\n",
    "#Multiple logical operators\n",
    "(1 == 2) or (2==3) or (4==4) #o/p-->true"
   ]
  },
  {
   "cell_type": "code",
   "execution_count": 8,
   "metadata": {},
   "outputs": [
    {
     "name": "stdout",
     "output_type": "stream",
     "text": [
      "First block\n"
     ]
    }
   ],
   "source": [
    "#if statement\n",
    "if 1<2:\n",
    "\n",
    "    print('First block')\n",
    "\n",
    "    if 20<3:\n",
    "        print(\"Second Bock\")"
   ]
  },
  {
   "cell_type": "code",
   "execution_count": 12,
   "metadata": {},
   "outputs": [
    {
     "name": "stdout",
     "output_type": "stream",
     "text": [
      "OK\n"
     ]
    }
   ],
   "source": [
    "#IF-ELSE\n",
    "if 1>2:\n",
    "    print(\"HI\")\n",
    "elif 3==3:\n",
    "    print('OK')\n",
    "elif 3>4:\n",
    "    print('Stay')\n",
    "else:\n",
    "    print('BYE')"
   ]
  },
  {
   "cell_type": "code",
   "execution_count": 16,
   "metadata": {},
   "outputs": [
    {
     "name": "stdout",
     "output_type": "stream",
     "text": [
      "BYE\n"
     ]
    }
   ],
   "source": [
    "if 1==1:\n",
    "       \n",
    "    if 3!=3:\n",
    "        print('OK')\n",
    "    elif 3>4:\n",
    "        print('Stay')\n",
    "    else:\n",
    "        print('BYE')"
   ]
  },
  {
   "cell_type": "code",
   "execution_count": null,
   "metadata": {},
   "outputs": [],
   "source": []
  }
 ],
 "metadata": {
  "kernelspec": {
   "display_name": "Python 3",
   "language": "python",
   "name": "python3"
  },
  "language_info": {
   "codemirror_mode": {
    "name": "ipython",
    "version": 3
   },
   "file_extension": ".py",
   "mimetype": "text/x-python",
   "name": "python",
   "nbconvert_exporter": "python",
   "pygments_lexer": "ipython3",
   "version": "3.12.2"
  }
 },
 "nbformat": 4,
 "nbformat_minor": 2
}
