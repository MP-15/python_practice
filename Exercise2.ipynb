{
 "cells": [
  {
   "cell_type": "code",
   "execution_count": 31,
   "metadata": {},
   "outputs": [
    {
     "name": "stdout",
     "output_type": "stream",
     "text": [
      "True\n"
     ]
    }
   ],
   "source": [
    "########################\n",
    "## FUNCTION EXERCISES ##\n",
    "########################\n",
    "\n",
    "\n",
    "\n",
    "#####################\n",
    "## -- PROBLEM 1 -- ##\n",
    "#####################\n",
    "\n",
    "# Given a list of integers, return True if the sequence of the numbers 1,2,3 appears in the list somewhere.\n",
    "# For Example:\n",
    "# arrayCheck([1,1,2,3,1])--> True\n",
    "# arrayCheck([1,1,2,4,1])--> False\n",
    "# arrayCheck([1,1,2,1,2,3])--> True\n",
    "\n",
    "def array_Check(nums):\n",
    "    for i in range(len(nums)-2):\n",
    "        if nums[i] == 1 and nums[i+1] == 2 and nums[i+2] ==3:\n",
    "            return True\n",
    "    return False\n",
    "result = array_Check([1,1,2,1,2,3])   \n",
    "print(result)\n",
    "\n",
    "\n"
   ]
  },
  {
   "cell_type": "code",
   "execution_count": 14,
   "metadata": {},
   "outputs": [
    {
     "name": "stdout",
     "output_type": "stream",
     "text": [
      "Hlo\n",
      "H\n",
      "Hello\n"
     ]
    }
   ],
   "source": [
    "#####################\n",
    "## -- PROBLEM 2 -- ##\n",
    "#####################\n",
    "\n",
    "# Given a string, return a new string made of every other character starting\n",
    "# with the first, so \"Hello\" yields \"Hlo\".\n",
    "\n",
    "# For example:\n",
    "\n",
    "# stringBits('Hello') --> 'Hlo'\n",
    "# stringBits('Hi') --> 'H'\n",
    "# stringBits('Heeololeo') --> 'Hello'\n",
    "\n",
    "\n",
    "    \n",
    "    # Method 1\n",
    "\n",
    "    # result = \"\"\n",
    "    # for i in range(len(mystring)):   \n",
    "    #     if i%2 == 0:\n",
    "    #         result = result + mystring[i]\n",
    "    # return result\n",
    "\n",
    "    # Method 2\n",
    "def stringBits(mystring):\n",
    "    return mystring[::2]\n",
    "result = stringBits('Hello') \n",
    "print(result)\n",
    "result = stringBits('Hi') \n",
    "print(result)\n",
    "result = stringBits('Heeololeo') \n",
    "print(result)\n",
    "   "
   ]
  },
  {
   "cell_type": "code",
   "execution_count": 17,
   "metadata": {},
   "outputs": [
    {
     "name": "stdout",
     "output_type": "stream",
     "text": [
      "True\n",
      "True\n",
      "True\n"
     ]
    }
   ],
   "source": [
    "#####################\n",
    "## -- PROBLEM 3 -- ##\n",
    "#####################\n",
    "\n",
    "# Given two strings, return True if either of the strings appears at the very end\n",
    "# of the other string, ignoring upper/lower case differences (in other words, the\n",
    "# computation should not be \"case sensitive\").\n",
    "#\n",
    "# Note: s.lower() returns the lowercase version of a string.\n",
    "#\n",
    "# Examples:\n",
    "#\n",
    "# end_other('Hiabc', 'abc') --> True\n",
    "# end_other('AbC', 'HiaBc') --> True\n",
    "# end_other('abc', 'abXabc') --> True\n",
    "\n",
    "def end_other(a, b):\n",
    "    a = a.lower()\n",
    "    b = b.lower()\n",
    "\n",
    "    #Methos 1\n",
    "    return (b.endswith(a) or a.endswith(b))\n",
    "result = end_other('Hiabc','abc')\n",
    "print(result)\n",
    "result = end_other('AbC', 'HiaBc')\n",
    "print(result)\n",
    "result = end_other('abc', 'abXabc')\n",
    "print(result)\n",
    "\n"
   ]
  },
  {
   "cell_type": "code",
   "execution_count": 18,
   "metadata": {},
   "outputs": [
    {
     "name": "stdout",
     "output_type": "stream",
     "text": [
      "True\n",
      "True\n",
      "True\n"
     ]
    }
   ],
   "source": [
    "#Method 2\n",
    "def end_other(a, b):\n",
    "    a = a.lower()\n",
    "    b = b.lower()\n",
    "\n",
    "    return a[-(len(b)):] == b or a == b[-len(a):]\n",
    "result = end_other('Hiabc','abc')\n",
    "print(result)\n",
    "result = end_other('AbC', 'HiaBc')\n",
    "print(result)\n",
    "result = end_other('abc', 'abXabc')\n",
    "print(result)\n"
   ]
  },
  {
   "cell_type": "code",
   "execution_count": 20,
   "metadata": {},
   "outputs": [
    {
     "name": "stdout",
     "output_type": "stream",
     "text": [
      "TThhee\n",
      "AAAAbbbb\n",
      "HHii--TThheerree\n"
     ]
    }
   ],
   "source": [
    "#####################\n",
    "## -- PROBLEM 4 -- ##\n",
    "#####################\n",
    "\n",
    "# Given a string, return a string where for every char in the original,\n",
    "# there are two chars.\n",
    "\n",
    "# doubleChar('The') --> 'TThhee'\n",
    "# doubleChar('AAbb') --> 'AAAAbbbb'\n",
    "# doubleChar('Hi-There') --> 'HHii--TThheerree'\n",
    "\n",
    "def doubleChar(str1):\n",
    "    result = \"\"\n",
    "    for char in str1:\n",
    "        result += char*2\n",
    "    return result\n",
    "r = doubleChar('The')\n",
    "print(r)\n",
    "r = doubleChar('AAbb')\n",
    "print(r)\n",
    "r = doubleChar('Hi-There')\n",
    "print(r)\n",
    "\n"
   ]
  },
  {
   "cell_type": "code",
   "execution_count": 27,
   "metadata": {},
   "outputs": [
    {
     "name": "stdout",
     "output_type": "stream",
     "text": [
      "6\n",
      "3\n",
      "3\n"
     ]
    }
   ],
   "source": [
    "#####################\n",
    "## -- PROBLEM 5 -- ##\n",
    "#####################\n",
    "\n",
    "# Read this problem statement carefully!\n",
    "\n",
    "# Given 3 int values, a b c, return their sum. However, if any of the values is a\n",
    "# teen -- in the range 13-19 inclusive -- then that value counts as 0, except 15\n",
    "# and 16 do not count as a teens. Write a separate helper \"def fix_teen(n):\"that\n",
    "# takes in an int value and returns that value fixed for the teen rule.\n",
    "#\n",
    "# In this way, you avoid repeating the teen code 3 times (i.e. \"decomposition\").\n",
    "# Define the helper below and at the same indent level as the main no_teen_sum().\n",
    "# Again, you will have two functions for this problem!\n",
    "#\n",
    "# Examples:\n",
    "#\n",
    "# no_teen_sum(1, 2, 3) --> 6\n",
    "# no_teen_sum(2, 13, 1) --> 3\n",
    "# no_teen_sum(2, 1, 14) --> 3\n",
    "\n",
    "l = [13,14,17,18,19]\n",
    "def no_teen_sum(a,b,c):\n",
    "  \n",
    "    return fix_teen(a) + fix_teen(b) + fix_teen(c)\n",
    "def fix_teen(n):\n",
    "    if n in l:\n",
    "        return 0\n",
    "    return n\n",
    "result = no_teen_sum(1,2,3)\n",
    "print(result)\n",
    "result = no_teen_sum(2,13,1)\n",
    "print(result)\n",
    "result = no_teen_sum(2,1,14)\n",
    "print(result)"
   ]
  },
  {
   "cell_type": "code",
   "execution_count": 28,
   "metadata": {},
   "outputs": [
    {
     "name": "stdout",
     "output_type": "stream",
     "text": [
      "3\n",
      "3\n",
      "0\n"
     ]
    }
   ],
   "source": [
    "#####################\n",
    "## -- PROBLEM 6 -- ##\n",
    "#####################\n",
    "\n",
    "# Return the number of even integers in the given array.\n",
    "#\n",
    "# Examples:\n",
    "#\n",
    "# count_evens([2, 1, 2, 3, 4]) --> 3\n",
    "# count_evens([2, 2, 0]) --> 3\n",
    "# count_evens([1, 3, 5]) --> 0\n",
    "\n",
    "def count_evens(nums):\n",
    "    count = 0\n",
    "    for i in nums:\n",
    "        if i%2 == 0:\n",
    "           count += 1\n",
    "    return count \n",
    "result = count_evens([2, 1, 2, 3, 4])\n",
    "print(result)\n",
    "result = count_evens([2, 2, 0])\n",
    "print(result)\n",
    "result = count_evens([1, 3, 5])\n",
    "print(result)"
   ]
  },
  {
   "cell_type": "code",
   "execution_count": null,
   "metadata": {},
   "outputs": [],
   "source": []
  },
  {
   "cell_type": "code",
   "execution_count": null,
   "metadata": {},
   "outputs": [],
   "source": []
  }
 ],
 "metadata": {
  "kernelspec": {
   "display_name": "Python 3",
   "language": "python",
   "name": "python3"
  },
  "language_info": {
   "codemirror_mode": {
    "name": "ipython",
    "version": 3
   },
   "file_extension": ".py",
   "mimetype": "text/x-python",
   "name": "python",
   "nbconvert_exporter": "python",
   "pygments_lexer": "ipython3",
   "version": "3.12.2"
  }
 },
 "nbformat": 4,
 "nbformat_minor": 2
}
