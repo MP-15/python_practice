{
 "cells": [
  {
   "cell_type": "code",
   "execution_count": 9,
   "metadata": {},
   "outputs": [
    {
     "name": "stdout",
     "output_type": "stream",
     "text": [
      "Bobby World\n",
      "Bobby's World\n",
      "Bobby's World"
     ]
    }
   ],
   "source": [
    "#variable name should be in small letters \n",
    "# var name should be separated using underscore\n",
    "message= 'Bobby World'# string can be represented using single, double and triple code.\n",
    "m= \"Bobby's World\"\n",
    "m2 = 'Bobby\\'s World'\n",
    "print(message,end='\\n' + str(m)+ '\\n' + str(m2))\n"
   ]
  },
  {
   "cell_type": "code",
   "execution_count": 11,
   "metadata": {},
   "outputs": [
    {
     "name": "stdout",
     "output_type": "stream",
     "text": [
      "7\n"
     ]
    }
   ],
   "source": [
    "#length of string\n",
    "m= \"Hi Mani\"\n",
    "print(len(m))"
   ]
  },
  {
   "cell_type": "code",
   "execution_count": 24,
   "metadata": {},
   "outputs": [
    {
     "name": "stdout",
     "output_type": "stream",
     "text": [
      "Hello Mani\n",
      "Hello Mani\n",
      "ello\n",
      "i\n",
      "Hello Man\n",
      "inaM olleH\n"
     ]
    }
   ],
   "source": [
    "#range printing of a string   \n",
    "# Slicing\n",
    "m= \"Hello Mani\"\n",
    "print(m[0:])\n",
    "print(m[:10])\n",
    "print(m[1:5])\n",
    "print(m[-1:])\n",
    "print(m[:-1])\n",
    "print(m[::-1])\n"
   ]
  },
  {
   "cell_type": "code",
   "execution_count": 26,
   "metadata": {},
   "outputs": [
    {
     "name": "stdout",
     "output_type": "stream",
     "text": [
      "hello mani\n",
      "HELLO MANI\n",
      "1\n",
      "2\n"
     ]
    }
   ],
   "source": [
    "# lower case printing(method/functions)\n",
    "print(m.lower())\n",
    "print(m.upper())\n",
    "print(m.count(\"Mani\"))\n",
    "print(m.count(\"l\"))"
   ]
  },
  {
   "cell_type": "code",
   "execution_count": 27,
   "metadata": {},
   "outputs": [
    {
     "name": "stdout",
     "output_type": "stream",
     "text": [
      "6\n",
      "2\n",
      "6\n"
     ]
    }
   ],
   "source": [
    "# now if I want ot find index of a word instead of count We'll use find and pass argument to it\n",
    "print(m.find(\"Mani\"))\n",
    "print(m.find(\"l\"))\n",
    "print(m.find(\"M\"))\n",
    "# here in the output index for word \"Mani\" turns out to be 6 because the word starts from idex 6 therefore."
   ]
  },
  {
   "cell_type": "code",
   "execution_count": 31,
   "metadata": {},
   "outputs": [
    {
     "name": "stdout",
     "output_type": "stream",
     "text": [
      "-1\n"
     ]
    },
    {
     "data": {
      "text/plain": [
       "'Hello Mani'"
      ]
     },
     "execution_count": 31,
     "metadata": {},
     "output_type": "execute_result"
    }
   ],
   "source": [
    "# if any argument that we pass in the function is not present in the string then a negative index will be returned beacuse it cannot find that word in the string \n",
    "print(m.find(\"Paliwal\"))\n",
    "# if we want to replace any word with any other word then \n",
    "#m.replace(word to be replaced, new word)\n",
    "m.replace(\"Hi\",\"Mani\")\n",
    "# this will not work because it didn't actually replace the word in the string but It's actually returning a new string with those values replaced \n",
    "#we'll learn about this in return statements\n"
   ]
  },
  {
   "cell_type": "code",
   "execution_count": 41,
   "metadata": {},
   "outputs": [
    {
     "name": "stdout",
     "output_type": "stream",
     "text": [
      "Hi Paliwal\n",
      "Hi Paliwal\n"
     ]
    }
   ],
   "source": [
    "# we need to have a new variale for this and then we can pass the new value.\n",
    "m= \"Hi Mani\"\n",
    "new_m= m.replace(\"Mani\",\"Paliwal\")\n",
    "print(new_m)\n",
    "\n",
    "# we can also set a old variable to itself with new var\n",
    "m = m.replace(\"Mani\",\"Paliwal\")\n",
    "print(m)"
   ]
  },
  {
   "cell_type": "code",
   "execution_count": 59,
   "metadata": {},
   "outputs": [
    {
     "name": "stdout",
     "output_type": "stream",
     "text": [
      "Mani paliwal\n",
      "mani paliwal\n",
      "Hi Mani Paliwal\n"
     ]
    }
   ],
   "source": [
    "# Some other String methods\n",
    "m=\"mani paliwal\"\n",
    "m1=\"Hi Mani Paliwal\"\n",
    "\n",
    "m= m.capitalize()\n",
    "print(m)\n",
    "m= m.casefold()\n",
    "print(m)\n",
    "desired_width=23\n",
    "centered_text= m.center(desired_width)#output with a padding spaces\n",
    "# m1=m1.center(2)\n",
    "print(m1)"
   ]
  },
  {
   "cell_type": "code",
   "execution_count": 64,
   "metadata": {},
   "outputs": [
    {
     "name": "stdout",
     "output_type": "stream",
     "text": [
      "b'Hi Mani Paliwal'\n",
      "<class 'bytes'>\n"
     ]
    }
   ],
   "source": [
    "m=\"Hi Mani Paliwal\"\n",
    "m=m.encode()\n",
    "print(m)\n",
    "print(type(m))"
   ]
  },
  {
   "cell_type": "code",
   "execution_count": 65,
   "metadata": {},
   "outputs": [
    {
     "data": {
      "text/plain": [
       "b'Hi Mani Paliwal'"
      ]
     },
     "execution_count": 65,
     "metadata": {},
     "output_type": "execute_result"
    }
   ],
   "source": [
    "m.title()\n"
   ]
  },
  {
   "cell_type": "code",
   "execution_count": 66,
   "metadata": {},
   "outputs": [
    {
     "data": {
      "text/plain": [
       "b'hi mani paliwal'"
      ]
     },
     "execution_count": 66,
     "metadata": {},
     "output_type": "execute_result"
    }
   ],
   "source": [
    "m.lower()"
   ]
  },
  {
   "cell_type": "code",
   "execution_count": 67,
   "metadata": {},
   "outputs": [
    {
     "data": {
      "text/plain": [
       "b'Hi Mani Paliwal'"
      ]
     },
     "execution_count": 67,
     "metadata": {},
     "output_type": "execute_result"
    }
   ],
   "source": [
    "m.title()"
   ]
  },
  {
   "cell_type": "code",
   "execution_count": 68,
   "metadata": {},
   "outputs": [
    {
     "data": {
      "text/plain": [
       "b'hi mani paliwal'"
      ]
     },
     "execution_count": 68,
     "metadata": {},
     "output_type": "execute_result"
    }
   ],
   "source": [
    "m.lower()"
   ]
  },
  {
   "cell_type": "code",
   "execution_count": 70,
   "metadata": {},
   "outputs": [
    {
     "data": {
      "text/plain": [
       "b'Hi mani paliwal'"
      ]
     },
     "execution_count": 70,
     "metadata": {},
     "output_type": "execute_result"
    }
   ],
   "source": [
    "m.capitalize()"
   ]
  },
  {
   "cell_type": "code",
   "execution_count": 79,
   "metadata": {},
   "outputs": [],
   "source": [
    "#we don't use self in classmethod , instance method, property method \n",
    "class Employee():\n",
    "  \n",
    "    # jab class ka object create hota hai tab constructor ek baar call hota hai (only once)\n",
    "    def __init__(self, a, b, c, d): #Class ke andar constructor banate hai \n",
    "        self.first_name= a\n",
    "        self.last_name= b\n",
    "        self.email= c\n",
    "        self.phn= d\n",
    "    #Method ka first argument according to python convension self hota hai\n",
    "    def display_user(self):# self represents current instance\n",
    "        print(self.first_name,end='\\n' + str(self.last_name) + '\\n' + str(self.email) + '\\n' + str(self.phn))\n",
    "\n",
    "\n",
    "\n",
    "\n"
   ]
  },
  {
   "cell_type": "code",
   "execution_count": 80,
   "metadata": {},
   "outputs": [],
   "source": [
    "obj = Employee(\"Mani\",\"Paliwal\",\"eyz@gmail.com\",\"7765765899\")"
   ]
  },
  {
   "cell_type": "code",
   "execution_count": 81,
   "metadata": {},
   "outputs": [
    {
     "name": "stdout",
     "output_type": "stream",
     "text": [
      "Mani\n",
      "Paliwal\n",
      "eyz@gmail.com\n",
      "7765765899"
     ]
    }
   ],
   "source": [
    "obj.display_user()"
   ]
  },
  {
   "cell_type": "code",
   "execution_count": 84,
   "metadata": {},
   "outputs": [
    {
     "name": "stdout",
     "output_type": "stream",
     "text": [
      "not pallindrome\n"
     ]
    }
   ],
   "source": [
    "s = \"aabbbaaj\"\n",
    "if (s[::-1]==s):\n",
    "    print(\"is pallindrome\")\n",
    "else:\n",
    "    print(\"not pallindrome\")"
   ]
  },
  {
   "cell_type": "code",
   "execution_count": 89,
   "metadata": {},
   "outputs": [
    {
     "name": "stdout",
     "output_type": "stream",
     "text": [
      "bbbbbbbbbbbb\n"
     ]
    }
   ],
   "source": [
    "s = \"abababababababababababab\"\n",
    "print(s[1:len(s):2])"
   ]
  },
  {
   "cell_type": "code",
   "execution_count": 92,
   "metadata": {},
   "outputs": [
    {
     "name": "stdout",
     "output_type": "stream",
     "text": [
      "     \n",
      "    *\n",
      "   **\n",
      "  ***\n",
      " ****\n"
     ]
    }
   ],
   "source": [
    "n = int(input())\n",
    "\n",
    "for i in range(n):\n",
    "    print(\" \"*(n-i) + \"*\"*i)"
   ]
  },
  {
   "cell_type": "code",
   "execution_count": null,
   "metadata": {},
   "outputs": [],
   "source": []
  }
 ],
 "metadata": {
  "kernelspec": {
   "display_name": "Python 3",
   "language": "python",
   "name": "python3"
  },
  "language_info": {
   "codemirror_mode": {
    "name": "ipython",
    "version": 3
   },
   "file_extension": ".py",
   "mimetype": "text/x-python",
   "name": "python",
   "nbconvert_exporter": "python",
   "pygments_lexer": "ipython3",
   "version": "3.12.2"
  }
 },
 "nbformat": 4,
 "nbformat_minor": 2
}
