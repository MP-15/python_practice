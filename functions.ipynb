{
 "cells": [
  {
   "cell_type": "code",
   "execution_count": 1,
   "metadata": {},
   "outputs": [],
   "source": [
    "# Functions in python use the def keyword .\n",
    "def my_func(parameter='default_value'): # python follows snake format to name a function i.e, to be separated by an underscore, unlike javascript where we use cample format.\n",
    "    print(\"my first python function\")\n",
    "    #Here we have only defined a function therefore no output will be generated."
   ]
  },
  {
   "cell_type": "code",
   "execution_count": 2,
   "metadata": {},
   "outputs": [
    {
     "name": "stdout",
     "output_type": "stream",
     "text": [
      "my first python function\n"
     ]
    }
   ],
   "source": [
    "def my_func(parameter='default_value'):\n",
    "    print(\"my first python function\")\n",
    "my_func() # to print something we need to call the function."
   ]
  },
  {
   "cell_type": "code",
   "execution_count": 4,
   "metadata": {},
   "outputs": [
    {
     "name": "stdout",
     "output_type": "stream",
     "text": [
      "my first python function default_value\n"
     ]
    }
   ],
   "source": [
    "def my_func(parameter='default_value'):\n",
    "    print(\"my first python function {}\".format(parameter)) # {} this denotes place where the parameter is to be printed\n",
    "    # to call value with the function.\n",
    "my_func()"
   ]
  },
  {
   "cell_type": "code",
   "execution_count": null,
   "metadata": {},
   "outputs": [],
   "source": [
    "# if you want code to have docstrings.\n",
    "def my_func(parameter='default_value'):\n",
    "    \"\"\"\n",
    "    THIS IS THE DOCSTRING\n",
    "    a\n",
    "    a\n",
    "    a\n",
    "    \n",
    "    \"\"\"\n",
    "    print(\"my first python function\")\n",
    "\n",
    "my_func()"
   ]
  },
  {
   "cell_type": "code",
   "execution_count": 6,
   "metadata": {},
   "outputs": [
    {
     "name": "stdout",
     "output_type": "stream",
     "text": [
      "hello\n"
     ]
    }
   ],
   "source": [
    "# to print hello\n",
    "def hello():\n",
    "    print(\"hello\")\n",
    "\n",
    "hello()"
   ]
  },
  {
   "cell_type": "code",
   "execution_count": 7,
   "metadata": {},
   "outputs": [
    {
     "data": {
      "text/plain": [
       "'hello'"
      ]
     },
     "execution_count": 7,
     "metadata": {},
     "output_type": "execute_result"
    }
   ],
   "source": [
    "# to return hello string\n",
    "def hello():\n",
    "    return \"hello\"\n",
    "hello()"
   ]
  },
  {
   "cell_type": "code",
   "execution_count": 8,
   "metadata": {},
   "outputs": [
    {
     "name": "stdout",
     "output_type": "stream",
     "text": [
      "hello\n"
     ]
    }
   ],
   "source": [
    "def hello():\n",
    "    return \"hello\"\n",
    "result = hello()\n",
    "print(result)"
   ]
  },
  {
   "cell_type": "code",
   "execution_count": 9,
   "metadata": {},
   "outputs": [
    {
     "name": "stdout",
     "output_type": "stream",
     "text": [
      "23\n"
     ]
    }
   ],
   "source": [
    "def addNum(num1, num2):\n",
    "    return num1+num2\n",
    "\n",
    "result = addNum(\"2\",\"3\")\n",
    "print(result)\n"
   ]
  },
  {
   "cell_type": "code",
   "execution_count": 10,
   "metadata": {},
   "outputs": [
    {
     "name": "stdout",
     "output_type": "stream",
     "text": [
      "5\n"
     ]
    }
   ],
   "source": [
    "def addNum(num1, num2):\n",
    "    return num1+num2\n",
    "\n",
    "result = addNum(2,3)\n",
    "print(result)"
   ]
  },
  {
   "cell_type": "code",
   "execution_count": 11,
   "metadata": {},
   "outputs": [
    {
     "name": "stdout",
     "output_type": "stream",
     "text": [
      "<class 'int'>\n"
     ]
    }
   ],
   "source": [
    "# check for python type\n",
    "def addNum(num1, num2):\n",
    "    return num1+num2\n",
    "\n",
    "result = addNum(2,3)\n",
    "print(type(result))"
   ]
  },
  {
   "cell_type": "code",
   "execution_count": 13,
   "metadata": {},
   "outputs": [
    {
     "name": "stdout",
     "output_type": "stream",
     "text": [
      "5\n"
     ]
    }
   ],
   "source": [
    "def addNum(num1, num2):\n",
    "    if type(num1) == type(num2) == type(10):\n",
    "        return num1+num2\n",
    "    else:\n",
    "        return \"Sorry I need Integers!\"\n",
    "\n",
    "result = addNum(2,3)\n",
    "print(result)"
   ]
  },
  {
   "cell_type": "code",
   "execution_count": 14,
   "metadata": {},
   "outputs": [
    {
     "name": "stdout",
     "output_type": "stream",
     "text": [
      "Sorry I need Integers!\n"
     ]
    }
   ],
   "source": [
    "def addNum(num1, num2):\n",
    "    if type(num1) == type(num2) == type(10):\n",
    "        return num1+num2\n",
    "    else:\n",
    "        return \"Sorry I need Integers!\"\n",
    "\n",
    "result = addNum(\"2\",\"3\")\n",
    "print(result)"
   ]
  },
  {
   "cell_type": "code",
   "execution_count": 18,
   "metadata": {},
   "outputs": [
    {
     "name": "stdout",
     "output_type": "stream",
     "text": [
      "[2, 4, 6, 8]\n",
      "<filter object at 0x000002043EA57E50>\n"
     ]
    }
   ],
   "source": [
    "# Lambda Expression\n",
    "\n",
    "# Filter\n",
    "mylist = [1,2,3,4,5,6,7,8]\n",
    "\n",
    "def even_bool(num):\n",
    "    return num%2 == 0\n",
    "\n",
    "evens = filter(even_bool, mylist)\n",
    "print(list(evens))\n",
    "print(evens)"
   ]
  },
  {
   "cell_type": "code",
   "execution_count": 21,
   "metadata": {},
   "outputs": [
    {
     "name": "stdout",
     "output_type": "stream",
     "text": [
      "<filter object at 0x000002043E9CFD30>\n",
      "[2, 4, 6, 8]\n"
     ]
    }
   ],
   "source": [
    "mylist = [1,2,3,4,5,6,7,8]\n",
    "\n",
    "# lambda experession function for the use case--- lambda num:num%2 == 0 \n",
    "\n",
    "evens = filter(lambda num:num%2 == 0, mylist)\n",
    "\n",
    "print(evens)\n",
    "print(list(evens))\n",
    "# it runs the same way\n"
   ]
  },
  {
   "cell_type": "code",
   "execution_count": 22,
   "metadata": {},
   "outputs": [
    {
     "name": "stdout",
     "output_type": "stream",
     "text": [
      "['Go Sports! ', 'Sports']\n"
     ]
    }
   ],
   "source": [
    "# more real use case of split\n",
    "\n",
    "tweet = \"Go Sports! #Sports\"\n",
    "result =  tweet.split('#')\n",
    "print(result)"
   ]
  },
  {
   "cell_type": "code",
   "execution_count": 23,
   "metadata": {},
   "outputs": [
    {
     "name": "stdout",
     "output_type": "stream",
     "text": [
      "Sports\n"
     ]
    }
   ],
   "source": [
    "tweet = \"Go Sports! #Sports\"\n",
    "result =  tweet.split('#')[1]\n",
    "print(result)"
   ]
  },
  {
   "cell_type": "code",
   "execution_count": 25,
   "metadata": {},
   "outputs": [
    {
     "name": "stdout",
     "output_type": "stream",
     "text": [
      "False\n",
      "True\n"
     ]
    }
   ],
   "source": [
    "# in operator\n",
    "print('x' in [1,2,3,4])\n",
    "print('x' in [1,2,3,'x'])"
   ]
  },
  {
   "cell_type": "code",
   "execution_count": null,
   "metadata": {},
   "outputs": [],
   "source": []
  }
 ],
 "metadata": {
  "kernelspec": {
   "display_name": "Python 3",
   "language": "python",
   "name": "python3"
  },
  "language_info": {
   "codemirror_mode": {
    "name": "ipython",
    "version": 3
   },
   "file_extension": ".py",
   "mimetype": "text/x-python",
   "name": "python",
   "nbconvert_exporter": "python",
   "pygments_lexer": "ipython3",
   "version": "3.12.2"
  }
 },
 "nbformat": 4,
 "nbformat_minor": 2
}
