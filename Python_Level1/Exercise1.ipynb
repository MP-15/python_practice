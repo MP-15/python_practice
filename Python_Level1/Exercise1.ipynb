{
 "cells": [
  {
   "cell_type": "code",
   "execution_count": 7,
   "metadata": {},
   "outputs": [
    {
     "name": "stdout",
     "output_type": "stream",
     "text": [
      "d\n",
      "o\n",
      "djan\n",
      "jan\n",
      "go\n",
      "ognajd\n"
     ]
    }
   ],
   "source": [
    "#########\n",
    "##Problem 1 ##\n",
    "#########\n",
    "\n",
    "#Given the String \n",
    "s= 'django'\n",
    "\n",
    "#Use indexing to pint out following:\n",
    "#d\n",
    "print(s[0])\n",
    "#o\n",
    "print(s[-1])\n",
    "#'djan'\n",
    "print(s[0:4])\n",
    "#'jan'\n",
    "print(s[1:4])\n",
    "#go\n",
    "print(s[-2:])\n",
    "\n",
    "#Bonus: Use indexing to reverse the string\n",
    "print(s[::-1])"
   ]
  },
  {
   "cell_type": "code",
   "execution_count": 32,
   "metadata": {},
   "outputs": [
    {
     "name": "stdout",
     "output_type": "stream",
     "text": [
      "[1, 4, 'hello']\n",
      "[3, 7, [1, 4, 'goodbye']]\n"
     ]
    }
   ],
   "source": [
    "#############\n",
    "##Problem 2##\n",
    "#############\n",
    "\n",
    "#Given this nested list:\n",
    "l=[3,7,[1,4,'hello']]\n",
    "# Reassign 'hello' to be 'goodbye'\n",
    "print(l[2])\n",
    "l[2][2]='goodbye'\n",
    "print(l)\n"
   ]
  },
  {
   "cell_type": "code",
   "execution_count": 34,
   "metadata": {},
   "outputs": [
    {
     "name": "stdout",
     "output_type": "stream",
     "text": [
      "hello\n",
      "hello\n",
      "hello\n"
     ]
    }
   ],
   "source": [
    "###############\n",
    "## Problem 3 ##\n",
    "###############\n",
    "\n",
    "# Using keys and indexing, grab the 'hello' from the following dictionaries:\n",
    "\n",
    "d1 = {'simple_key':'hello'}\n",
    "print(d1['simple_key'])\n",
    "\n",
    "d2 = {'k1':{'k2':'hello'}}\n",
    "print(d2['k1']['k2'])\n",
    "d3 = {'k1':[{'nest_key':['this is deep',['hello']]}]}\n",
    "print(d3['k1'][0]['nest_key'][1][0])\n"
   ]
  },
  {
   "cell_type": "code",
   "execution_count": 40,
   "metadata": {},
   "outputs": [
    {
     "name": "stdout",
     "output_type": "stream",
     "text": [
      "{'2', '3', '1'}\n",
      "{1, 2, 3}\n"
     ]
    }
   ],
   "source": [
    "###############\n",
    "## Problem 4 ##\n",
    "###############\n",
    "\n",
    "# Use a set to find the unique values of the list below:\n",
    "# sets are 4th built-in data type, apart from list, tuple, dictionary\n",
    "\n",
    "mylist= [1,1,1,1,1,2,2,2,2,3,3,3,3]\n",
    "\n",
    "# Wrong way---this only prints the elements of a set\n",
    "\n",
    "mylist1= {'1','1','1','1','1','2','2','2','2','3','3','3','3'}\n",
    "print(mylist1)\n",
    "\n",
    "# Correct Answer---prints unique value of elements in set\n",
    "\n",
    "print(set(mylist))\n",
    "\n"
   ]
  },
  {
   "cell_type": "code",
   "execution_count": 45,
   "metadata": {},
   "outputs": [
    {
     "name": "stdout",
     "output_type": "stream",
     "text": [
      "Hello my name is Mani I'm 21 years old.\n"
     ]
    }
   ],
   "source": [
    "###############\n",
    "## Problem 5 ##\n",
    "###############\n",
    "\n",
    "# You are given 2 var\n",
    "age = 21\n",
    "name = 'Mani'\n",
    "\n",
    "# Use print formatting to print the following string\n",
    "# \"Hello my name is Mani and I'm 21 years old\"\n",
    "print(\"Hello my name is \"+ name + \" \" + \"I'm\" + \" \" + str(age) + \" \" + 'years old.')"
   ]
  },
  {
   "cell_type": "code",
   "execution_count": null,
   "metadata": {},
   "outputs": [],
   "source": []
  }
 ],
 "metadata": {
  "kernelspec": {
   "display_name": "Python 3",
   "language": "python",
   "name": "python3"
  },
  "language_info": {
   "codemirror_mode": {
    "name": "ipython",
    "version": 3
   },
   "file_extension": ".py",
   "mimetype": "text/x-python",
   "name": "python",
   "nbconvert_exporter": "python",
   "pygments_lexer": "ipython3",
   "version": "3.12.2"
  }
 },
 "nbformat": 4,
 "nbformat_minor": 2
}
