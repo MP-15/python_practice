{
 "cells": [
  {
   "cell_type": "code",
   "execution_count": null,
   "metadata": {},
   "outputs": [],
   "source": [
    "# Why Python?\n",
    "#-->Shell v/s Python\n",
    "#--> Linux -- Ec2 & Vm ---No GUI\n",
    "#---> SSH---Linux---creating,website, folders,free disk, memory, cpu,----shell scripting to interat with vm with no gui.\n",
    "#---file save with extension '.sh' , eg: 'test.sh' and save commands in it like 1,2,3\n",
    "#---then if we run command '/test.sh' then all the commands in the file will run line by line, O/p on the terminal.\n",
    "#  Primary purpose of the shell scripting is to interact with linux systems.\n",
    "\n",
    "# Ansible---written in python---yaml scripting\n",
    "# Pyhton is preferrable over shell scripting for complex task, API, data manipulation etc."
   ]
  },
  {
   "cell_type": "code",
   "execution_count": null,
   "metadata": {},
   "outputs": [],
   "source": [
    "# Eg: you go to github and and see the issues is created on a certain repo so now \n",
    "# we need to talk to API of github  repo--- to the get author name\n",
    "# We make API call--github will make a JSON module from which you need to find the syntax aurthor name.\n",
    "# we use curl.---jq to parse call and then we get the required information.\n",
    "# Using Python we can very easily access this using Python --- serialize json object ---iterate dictionary ---\n",
    "\n",
    "\n",
    "#     Script---API of github---issues---(Json object) -another detail---Script\n",
    "# This can be done using both shell scripting as well as python.\n",
    "# But when doing this with shell scripting we use curl to talk with the api---then json module is created and we fetch using Jq.\n",
    "# But these packages of shell scripting are not as rich as that of Python.\n",
    "# Python modules---requests or --Json \n",
    "# Cross-platform compatibility"
   ]
  },
  {
   "cell_type": "code",
   "execution_count": null,
   "metadata": {},
   "outputs": [],
   "source": []
  }
 ],
 "metadata": {
  "language_info": {
   "name": "python"
  }
 },
 "nbformat": 4,
 "nbformat_minor": 2
}
