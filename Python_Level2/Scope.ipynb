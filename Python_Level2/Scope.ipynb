{
 "cells": [
  {
   "cell_type": "code",
   "execution_count": null,
   "metadata": {},
   "outputs": [],
   "source": [
    "# Python Scope follows the LEGB Rule:\n",
    "\n",
    "# Local:  Names assigned in any way within a function( def or lambda), and not declared global in that function.\n",
    "# Enclosing Functional locals: Name in the local scope of any and all enclosing functions( def or lambda), from inner to outer.\n",
    "# Global: (module)- Name assigned at the top-level of a module file, or declared global in a def within the file.\n",
    "# Built-in: (Python)- Names preassigned in the built-in names module:-- open,range,SyntaxError,...\n"
   ]
  },
  {
   "cell_type": "code",
   "execution_count": 2,
   "metadata": {},
   "outputs": [
    {
     "name": "stdout",
     "output_type": "stream",
     "text": [
      "21\n",
      "22\n"
     ]
    }
   ],
   "source": [
    "x = 21 #global\n",
    "\n",
    "def my_age():\n",
    "    x = 22\n",
    "    return x\n",
    "print(x)\n",
    "print(my_age())"
   ]
  },
  {
   "cell_type": "code",
   "execution_count": 3,
   "metadata": {},
   "outputs": [
    {
     "name": "stdout",
     "output_type": "stream",
     "text": [
      "21\n"
     ]
    }
   ],
   "source": [
    "x = 21 #global\n",
    "\n",
    "def my_age():\n",
    "    x = 22\n",
    "    return x\n",
    "# print(x)\n",
    "# print(my_age())\n",
    "my_age()\n",
    "print(x)\n",
    "# This print function will not print 22 because the reassignment of x happened in side the func and x=21 is a global var so its a scope issue."
   ]
  },
  {
   "cell_type": "code",
   "execution_count": null,
   "metadata": {},
   "outputs": [],
   "source": [
    "# LOCAL\n",
    "lambda x:x**2"
   ]
  },
  {
   "cell_type": "code",
   "execution_count": 4,
   "metadata": {},
   "outputs": [],
   "source": [
    "\n",
    "\n",
    "# Enclosing function locals (nested)\n",
    "name = \"this is a global name!\"\n",
    "\n",
    "def greet():\n",
    "    name = \"Mani\"\n",
    "\n",
    "    def hello():\n",
    "        print(\"Hello \"+name)\n",
    "greet()\n",
    "# greet() is called correctly but it will not print anything because inside this func is another func that is printimng the name along with another string so we need to call that func as well to print something\n"
   ]
  },
  {
   "cell_type": "code",
   "execution_count": 7,
   "metadata": {},
   "outputs": [
    {
     "name": "stdout",
     "output_type": "stream",
     "text": [
      "Hello Mani\n"
     ]
    }
   ],
   "source": [
    "name = \"this is a global name!\"\n",
    "\n",
    "def greet():\n",
    "    name = \"Mani\"\n",
    "\n",
    "    def hello():\n",
    "        print(\"Hello \"+name)\n",
    "    hello()\n",
    "greet()\n",
    "# Now if i comment the name which is inside the func then it will print name var that is outside the def func as it is global.\n"
   ]
  },
  {
   "cell_type": "code",
   "execution_count": 10,
   "metadata": {},
   "outputs": [
    {
     "name": "stdout",
     "output_type": "stream",
     "text": [
      "Hello, this is a global name!\n"
     ]
    }
   ],
   "source": [
    "name = \"this is a global name!\"\n",
    "\n",
    "def greet():\n",
    "    # name = \"Mani\"\n",
    "\n",
    "    def hello():\n",
    "        print(\"Hello \"+name)\n",
    "    hello()\n",
    "greet()"
   ]
  },
  {
   "cell_type": "code",
   "execution_count": 12,
   "metadata": {},
   "outputs": [
    {
     "name": "stdout",
     "output_type": "stream",
     "text": [
      "Hello Mani\n",
      "this is a global name!\n"
     ]
    }
   ],
   "source": [
    "name = \"this is a global name!\"\n",
    "\n",
    "def greet():\n",
    "    name = \"Mani\"\n",
    "\n",
    "    def hello():\n",
    "        print(\"Hello \"+name)\n",
    "    hello()\n",
    "greet()# call the func to print local scope var name\n",
    "print(name)# prints global var name\n",
    "# Until unless we call the func it will not look for the var that is inside the func as it would have absoluetly no use of going inside a func to find the var.\n",
    "# And even if the function is being  called the variable is in the local scope of the func only.\n",
    "\n"
   ]
  },
  {
   "cell_type": "code",
   "execution_count": null,
   "metadata": {},
   "outputs": [],
   "source": [
    "# Built-in \n",
    "# Should never overwrite them \n",
    "Eg: len"
   ]
  },
  {
   "cell_type": "code",
   "execution_count": 16,
   "metadata": {},
   "outputs": [
    {
     "name": "stdout",
     "output_type": "stream",
     "text": [
      "x is: 50\n",
      "local x chnaged to: 1000\n",
      "50\n"
     ]
    }
   ],
   "source": [
    "# Let's look more into local scope & var\n",
    "x = 50\n",
    "\n",
    "def func(x):\n",
    "    print('x is:', x)\n",
    "    x = 1000\n",
    "    print('local x chnaged to:',x)\n",
    "\n",
    "func(x)\n",
    "print(x)"
   ]
  },
  {
   "cell_type": "code",
   "execution_count": 18,
   "metadata": {},
   "outputs": [
    {
     "name": "stdout",
     "output_type": "stream",
     "text": [
      "before function call, x is:  50\n",
      "before function call, x is:  1000\n"
     ]
    }
   ],
   "source": [
    "# global name keyword\n",
    "x = 50\n",
    "\n",
    "def func():\n",
    "    global x\n",
    "    x = 1000\n",
    "\n",
    "print(\"before function call, x is: \",x)\n",
    "func()\n",
    "print(\"before function call, x is: \",x)\n"
   ]
  },
  {
   "cell_type": "code",
   "execution_count": 20,
   "metadata": {},
   "outputs": [
    {
     "name": "stdout",
     "output_type": "stream",
     "text": [
      "before function call, x is:  50\n",
      "before function call, x is:  1000\n"
     ]
    }
   ],
   "source": [
    "x = 50\n",
    "\n",
    "def func():\n",
    "    # global x\n",
    "    x = 1000\n",
    "    return x\n",
    "\n",
    "print(\"before function call, x is: \",x)\n",
    "x = func()\n",
    "print(\"before function call, x is: \",x)"
   ]
  },
  {
   "cell_type": "code",
   "execution_count": null,
   "metadata": {},
   "outputs": [],
   "source": []
  }
 ],
 "metadata": {
  "kernelspec": {
   "display_name": "Python 3",
   "language": "python",
   "name": "python3"
  },
  "language_info": {
   "codemirror_mode": {
    "name": "ipython",
    "version": 3
   },
   "file_extension": ".py",
   "mimetype": "text/x-python",
   "name": "python",
   "nbconvert_exporter": "python",
   "pygments_lexer": "ipython3",
   "version": "3.12.2"
  }
 },
 "nbformat": 4,
 "nbformat_minor": 2
}
